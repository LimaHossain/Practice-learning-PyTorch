{
  "nbformat": 4,
  "nbformat_minor": 0,
  "metadata": {
    "colab": {
      "provenance": [],
      "authorship_tag": "ABX9TyMmiGxxyfJ5fFaPwfICJ1k7",
      "include_colab_link": true
    },
    "kernelspec": {
      "name": "python3",
      "display_name": "Python 3"
    },
    "language_info": {
      "name": "python"
    }
  },
  "cells": [
    {
      "cell_type": "markdown",
      "metadata": {
        "id": "view-in-github",
        "colab_type": "text"
      },
      "source": [
        "<a href=\"https://colab.research.google.com/github/LimaHossain/Practice-learning-PyTorch/blob/main/PyTorch_Workflow.ipynb\" target=\"_parent\"><img src=\"https://colab.research.google.com/assets/colab-badge.svg\" alt=\"Open In Colab\"/></a>"
      ]
    },
    {
      "cell_type": "code",
      "execution_count": 1,
      "metadata": {
        "colab": {
          "base_uri": "https://localhost:8080/"
        },
        "id": "IrpeAj6lMHMa",
        "outputId": "5ef0db51-08f9-4dfb-a3b1-3d172ee0aba0"
      },
      "outputs": [
        {
          "output_type": "execute_result",
          "data": {
            "text/plain": [
              "{1: 'data(prepare and load)',\n",
              " 2: 'build model',\n",
              " 3: 'Fit the model',\n",
              " 4: 'making predictions and evaluate the model',\n",
              " 5: 'saving and loading a model',\n",
              " 6: 'putting it all together'}"
            ]
          },
          "metadata": {},
          "execution_count": 1
        }
      ],
      "source": [
        "What_were_covering = {1: \"data(prepare and load)\",\n",
        "                      2: \"build model\",\n",
        "                      3: \"Fit the model\",\n",
        "                      4: \"making predictions and evaluate the model\",\n",
        "                      5: \"saving and loading a model\",\n",
        "                      6: \"putting it all together\"}\n",
        "What_were_covering"
      ]
    },
    {
      "cell_type": "code",
      "source": [
        "import torch\n",
        "from torch import nn\n",
        "import matplotlib.pyplot as plt\n",
        "\n",
        "torch.__version__"
      ],
      "metadata": {
        "colab": {
          "base_uri": "https://localhost:8080/",
          "height": 36
        },
        "id": "eR8IxCo8PDDI",
        "outputId": "04d8fc5f-fcf4-4a91-9a25-c97872567af2"
      },
      "execution_count": 2,
      "outputs": [
        {
          "output_type": "execute_result",
          "data": {
            "text/plain": [
              "'2.2.1+cu121'"
            ],
            "application/vnd.google.colaboratory.intrinsic+json": {
              "type": "string"
            }
          },
          "metadata": {},
          "execution_count": 2
        }
      ]
    },
    {
      "cell_type": "markdown",
      "source": [
        "### Data preparation and loading"
      ],
      "metadata": {
        "id": "PThsGn0dPU_O"
      }
    },
    {
      "cell_type": "code",
      "source": [
        "weight =  0.8\n",
        "bias = 0.2\n",
        "\n",
        "start = 0\n",
        "end = 1\n",
        "step = 0.02\n",
        "X = torch.arange(start, end, step).unsqueeze(dim=1)\n",
        "y = weight * X + bias\n",
        "\n",
        "X[:20], y[:20], len(X), len(y)"
      ],
      "metadata": {
        "id": "gMl0D-sXPDSW",
        "colab": {
          "base_uri": "https://localhost:8080/"
        },
        "outputId": "775016f8-2d7e-46f6-9ce2-af92db07efa7"
      },
      "execution_count": 8,
      "outputs": [
        {
          "output_type": "execute_result",
          "data": {
            "text/plain": [
              "(tensor([[0.0000],\n",
              "         [0.0200],\n",
              "         [0.0400],\n",
              "         [0.0600],\n",
              "         [0.0800],\n",
              "         [0.1000],\n",
              "         [0.1200],\n",
              "         [0.1400],\n",
              "         [0.1600],\n",
              "         [0.1800],\n",
              "         [0.2000],\n",
              "         [0.2200],\n",
              "         [0.2400],\n",
              "         [0.2600],\n",
              "         [0.2800],\n",
              "         [0.3000],\n",
              "         [0.3200],\n",
              "         [0.3400],\n",
              "         [0.3600],\n",
              "         [0.3800]]),\n",
              " tensor([[0.2000],\n",
              "         [0.2160],\n",
              "         [0.2320],\n",
              "         [0.2480],\n",
              "         [0.2640],\n",
              "         [0.2800],\n",
              "         [0.2960],\n",
              "         [0.3120],\n",
              "         [0.3280],\n",
              "         [0.3440],\n",
              "         [0.3600],\n",
              "         [0.3760],\n",
              "         [0.3920],\n",
              "         [0.4080],\n",
              "         [0.4240],\n",
              "         [0.4400],\n",
              "         [0.4560],\n",
              "         [0.4720],\n",
              "         [0.4880],\n",
              "         [0.5040]]),\n",
              " 50,\n",
              " 50)"
            ]
          },
          "metadata": {},
          "execution_count": 8
        }
      ]
    },
    {
      "cell_type": "code",
      "source": [
        "len(X), len(y)"
      ],
      "metadata": {
        "colab": {
          "base_uri": "https://localhost:8080/"
        },
        "id": "bIhP-fuxPDwb",
        "outputId": "5116ff54-1b3e-406e-827c-c6345dca8ef5"
      },
      "execution_count": 9,
      "outputs": [
        {
          "output_type": "execute_result",
          "data": {
            "text/plain": [
              "(50, 50)"
            ]
          },
          "metadata": {},
          "execution_count": 9
        }
      ]
    },
    {
      "cell_type": "markdown",
      "source": [
        "## Splitting data into training and testing"
      ],
      "metadata": {
        "id": "2m345DKtSMGA"
      }
    },
    {
      "cell_type": "code",
      "source": [
        "train_split = int(0.8 * len(X))\n",
        "X_train, y_train = X[:train_split], y[:train_split]\n",
        "X_test, y_test = X[train_split:], y[train_split:]\n",
        "\n",
        "len(X_train), len(y_train), len(X_test), len(y_test)"
      ],
      "metadata": {
        "colab": {
          "base_uri": "https://localhost:8080/"
        },
        "id": "JEO-LIEvPERf",
        "outputId": "9bd28fbb-a63d-46d9-b774-1f6b9241f4fb"
      },
      "execution_count": 10,
      "outputs": [
        {
          "output_type": "execute_result",
          "data": {
            "text/plain": [
              "(40, 40, 10, 10)"
            ]
          },
          "metadata": {},
          "execution_count": 10
        }
      ]
    },
    {
      "cell_type": "code",
      "source": [
        "X_train, y_train"
      ],
      "metadata": {
        "colab": {
          "base_uri": "https://localhost:8080/"
        },
        "id": "0sAIYPb0UR1n",
        "outputId": "fba7d4a8-f09e-45d3-ad41-b5bc46222943"
      },
      "execution_count": 11,
      "outputs": [
        {
          "output_type": "execute_result",
          "data": {
            "text/plain": [
              "(tensor([[0.0000],\n",
              "         [0.0200],\n",
              "         [0.0400],\n",
              "         [0.0600],\n",
              "         [0.0800],\n",
              "         [0.1000],\n",
              "         [0.1200],\n",
              "         [0.1400],\n",
              "         [0.1600],\n",
              "         [0.1800],\n",
              "         [0.2000],\n",
              "         [0.2200],\n",
              "         [0.2400],\n",
              "         [0.2600],\n",
              "         [0.2800],\n",
              "         [0.3000],\n",
              "         [0.3200],\n",
              "         [0.3400],\n",
              "         [0.3600],\n",
              "         [0.3800],\n",
              "         [0.4000],\n",
              "         [0.4200],\n",
              "         [0.4400],\n",
              "         [0.4600],\n",
              "         [0.4800],\n",
              "         [0.5000],\n",
              "         [0.5200],\n",
              "         [0.5400],\n",
              "         [0.5600],\n",
              "         [0.5800],\n",
              "         [0.6000],\n",
              "         [0.6200],\n",
              "         [0.6400],\n",
              "         [0.6600],\n",
              "         [0.6800],\n",
              "         [0.7000],\n",
              "         [0.7200],\n",
              "         [0.7400],\n",
              "         [0.7600],\n",
              "         [0.7800]]),\n",
              " tensor([[0.2000],\n",
              "         [0.2160],\n",
              "         [0.2320],\n",
              "         [0.2480],\n",
              "         [0.2640],\n",
              "         [0.2800],\n",
              "         [0.2960],\n",
              "         [0.3120],\n",
              "         [0.3280],\n",
              "         [0.3440],\n",
              "         [0.3600],\n",
              "         [0.3760],\n",
              "         [0.3920],\n",
              "         [0.4080],\n",
              "         [0.4240],\n",
              "         [0.4400],\n",
              "         [0.4560],\n",
              "         [0.4720],\n",
              "         [0.4880],\n",
              "         [0.5040],\n",
              "         [0.5200],\n",
              "         [0.5360],\n",
              "         [0.5520],\n",
              "         [0.5680],\n",
              "         [0.5840],\n",
              "         [0.6000],\n",
              "         [0.6160],\n",
              "         [0.6320],\n",
              "         [0.6480],\n",
              "         [0.6640],\n",
              "         [0.6800],\n",
              "         [0.6960],\n",
              "         [0.7120],\n",
              "         [0.7280],\n",
              "         [0.7440],\n",
              "         [0.7600],\n",
              "         [0.7760],\n",
              "         [0.7920],\n",
              "         [0.8080],\n",
              "         [0.8240]]))"
            ]
          },
          "metadata": {},
          "execution_count": 11
        }
      ]
    },
    {
      "cell_type": "code",
      "source": [
        "def plot_predictions(train_data = X_train,\n",
        "                     train_labels = y_train,\n",
        "                     test_data = X_test,\n",
        "                     test_labels = y_test,\n",
        "                     predictions = None):\n",
        "  plt.figure(figsize=(10, 7))\n",
        "  plt.scatter(train_data, train_labels, c = 'b', s=4, label=\"Training data\")\n",
        "  plt.scatter(test_data, test_labels, c = 'g', s=4, label=\"Testing data\")\n",
        "\n",
        "  if predictions is not None:\n",
        "    plt.scatter(test_data, predictions, c = 'r', s=4, labels=\"predictions\")\n",
        "\n",
        "  plt.legend(prop={\"size\": 14});\n"
      ],
      "metadata": {
        "id": "AQKXnfm2USNM"
      },
      "execution_count": 29,
      "outputs": []
    },
    {
      "cell_type": "code",
      "source": [
        "plot_predictions()"
      ],
      "metadata": {
        "colab": {
          "base_uri": "https://localhost:8080/",
          "height": 599
        },
        "id": "tls6v7lnUSeN",
        "outputId": "3c05a367-63e4-4287-ea8f-768fe77f5a0a"
      },
      "execution_count": 30,
      "outputs": [
        {
          "output_type": "display_data",
          "data": {
            "text/plain": [
              "<Figure size 1000x700 with 1 Axes>"
            ],
            "image/png": "[encoded data removed]"
          },
          "metadata": {}
        }
      ]
    },
    {
      "cell_type": "markdown",
      "source": [
        "## Build a model"
      ],
      "metadata": {
        "id": "-1CiGCY9jCGO"
      }
    },
    {
      "cell_type": "code",
      "source": [
        "class LinearRegressionModel(nn.Module): # <- almost everything in PyTorch is a nn.Module (think of this as neural network lego blocks)\n",
        "    def __init__(self):\n",
        "        super().__init__()\n",
        "        self.weights = nn.Parameter(torch.randn(1, # <- start with random weights (this will get adjusted as the model learns)\n",
        "                                                dtype=torch.float), # <- PyTorch loves float32 by default\n",
        "                                   requires_grad=True) # <- can we update this value with gradient descent?)\n",
        "\n",
        "        self.bias = nn.Parameter(torch.randn(1, # <- start with random bias (this will get adjusted as the model learns)\n",
        "                                            dtype=torch.float), # <- PyTorch loves float32 by default\n",
        "                                requires_grad=True) # <- can we update this value with gradient descent?))\n",
        "\n",
        "    # Forward defines the computation in the model\n",
        "    def forward(self, x: torch.Tensor) -> torch.Tensor: # <- \"x\" is the input data (e.g. training/testing features)\n",
        "        return self.weights * x + self.bias # <- this is the linear regression formula (y = m*x + b)"
      ],
      "metadata": {
        "id": "-hUoflGiUS2-"
      },
      "execution_count": 31,
      "outputs": []
    },
    {
      "cell_type": "code",
      "source": [
        "torch.manual_seed(42)\n",
        "\n",
        "# Create an instance of the model (this is a subclass of nn.Module that contains nn.Parameter(s))\n",
        "model_0 = LinearRegressionModel()\n",
        "\n",
        "# Check the nn.Parameter(s) within the nn.Module subclass we created\n",
        "list(model_0.parameters())"
      ],
      "metadata": {
        "colab": {
          "base_uri": "https://localhost:8080/"
        },
        "id": "k5HlxNtrUTRt",
        "outputId": "a41664ae-ccf8-4723-89fd-6b5c95d311f4"
      },
      "execution_count": 32,
      "outputs": [
        {
          "output_type": "execute_result",
          "data": {
            "text/plain": [
              "[Parameter containing:\n",
              " tensor([0.3367], requires_grad=True),\n",
              " Parameter containing:\n",
              " tensor([0.1288], requires_grad=True)]"
            ]
          },
          "metadata": {},
          "execution_count": 32
        }
      ]
    },
    {
      "cell_type": "code",
      "source": [
        "  model_0.state_dict()"
      ],
      "metadata": {
        "id": "PykXRR9yjwMu",
        "colab": {
          "base_uri": "https://localhost:8080/"
        },
        "outputId": "646ef8bd-2ca1-437c-b45d-6f2b05e852d1"
      },
      "execution_count": 33,
      "outputs": [
        {
          "output_type": "execute_result",
          "data": {
            "text/plain": [
              "OrderedDict([('weights', tensor([0.3367])), ('bias', tensor([0.1288]))])"
            ]
          },
          "metadata": {},
          "execution_count": 33
        }
      ]
    },
    {
      "cell_type": "code",
      "source": [
        "weight, bias"
      ],
      "metadata": {
        "id": "KqqZaCPhjwiq",
        "colab": {
          "base_uri": "https://localhost:8080/"
        },
        "outputId": "f0742253-4c95-48b3-9646-4693b2bbef01"
      },
      "execution_count": 34,
      "outputs": [
        {
          "output_type": "execute_result",
          "data": {
            "text/plain": [
              "(0.8, 0.2)"
            ]
          },
          "metadata": {},
          "execution_count": 34
        }
      ]
    },
    {
      "cell_type": "markdown",
      "source": [
        "## Making prediction using torch.inference_mode()"
      ],
      "metadata": {
        "id": "cWzjddYfkyXX"
      }
    },
    {
      "cell_type": "code",
      "source": [
        "X_test"
      ],
      "metadata": {
        "id": "OEJBxJcyjw2R",
        "colab": {
          "base_uri": "https://localhost:8080/"
        },
        "outputId": "91543770-4d45-4a94-d597-9aefe017f68f"
      },
      "execution_count": 36,
      "outputs": [
        {
          "output_type": "execute_result",
          "data": {
            "text/plain": [
              "tensor([[0.8000],\n",
              "        [0.8200],\n",
              "        [0.8400],\n",
              "        [0.8600],\n",
              "        [0.8800],\n",
              "        [0.9000],\n",
              "        [0.9200],\n",
              "        [0.9400],\n",
              "        [0.9600],\n",
              "        [0.9800]])"
            ]
          },
          "metadata": {},
          "execution_count": 36
        }
      ]
    },
    {
      "cell_type": "code",
      "source": [
        "with torch.inference_mode():\n",
        "  y_preds = model_0(X_test)\n",
        "\n",
        "y_preds"
      ],
      "metadata": {
        "id": "q9nWsiJzjxH6",
        "colab": {
          "base_uri": "https://localhost:8080/"
        },
        "outputId": "8e732fb3-b57d-49dd-e56f-f1ea3f158305"
      },
      "execution_count": 37,
      "outputs": [
        {
          "output_type": "execute_result",
          "data": {
            "text/plain": [
              "tensor([[0.3982],\n",
              "        [0.4049],\n",
              "        [0.4116],\n",
              "        [0.4184],\n",
              "        [0.4251],\n",
              "        [0.4318],\n",
              "        [0.4386],\n",
              "        [0.4453],\n",
              "        [0.4520],\n",
              "        [0.4588]])"
            ]
          },
          "metadata": {},
          "execution_count": 37
        }
      ]
    },
    {
      "cell_type": "code",
      "source": [
        "y_test"
      ],
      "metadata": {
        "colab": {
          "base_uri": "https://localhost:8080/"
        },
        "id": "b0hA6C5mkuFj",
        "outputId": "17da7bb1-9230-441e-d9fe-9af33534fd9e"
      },
      "execution_count": 38,
      "outputs": [
        {
          "output_type": "execute_result",
          "data": {
            "text/plain": [
              "tensor([[0.8400],\n",
              "        [0.8560],\n",
              "        [0.8720],\n",
              "        [0.8880],\n",
              "        [0.9040],\n",
              "        [0.9200],\n",
              "        [0.9360],\n",
              "        [0.9520],\n",
              "        [0.9680],\n",
              "        [0.9840]])"
            ]
          },
          "metadata": {},
          "execution_count": 38
        }
      ]
    },
    {
      "cell_type": "code",
      "source": [
        "def plot_predictions(train_data=X_train,\n",
        "                     train_labels=y_train,\n",
        "                     test_data=X_test,\n",
        "                     test_labels=y_test,\n",
        "                     predictions=None):\n",
        "  \"\"\"\n",
        "  Plots training data, test data and compares predictions.\n",
        "  \"\"\"\n",
        "  plt.figure(figsize=(10, 7))\n",
        "\n",
        "  # Plot training data in blue\n",
        "  plt.scatter(train_data, train_labels, c=\"b\", s=4, label=\"Training data\")\n",
        "\n",
        "  # Plot test data in green\n",
        "  plt.scatter(test_data, test_labels, c=\"g\", s=4, label=\"Testing data\")\n",
        "\n",
        "  if predictions is not None:\n",
        "    # Plot the predictions in red (predictions were made on the test data)\n",
        "    plt.scatter(test_data, predictions, c=\"r\", s=4, label=\"Predictions\")\n",
        "\n",
        "  # Show the legend\n",
        "  plt.legend(prop={\"size\": 14});\n",
        "plot_predictions(predictions=y_preds)"
      ],
      "metadata": {
        "colab": {
          "base_uri": "https://localhost:8080/",
          "height": 599
        },
        "id": "KoPmqXfrkuYJ",
        "outputId": "a3b861fb-4593-43f7-8f8e-538691e20aa9"
      },
      "execution_count": 39,
      "outputs": [
        {
          "output_type": "display_data",
          "data": {
            "text/plain": [
              "<Figure size 1000x700 with 1 Axes>"
            ],
            "image/png": "[encoded data removed]"
          },
          "metadata": {}
        }
      ]
    },
    {
      "cell_type": "code",
      "source": [
        "y_test - y_preds"
      ],
      "metadata": {
        "colab": {
          "base_uri": "https://localhost:8080/"
        },
        "id": "gW-VSLxskurJ",
        "outputId": "0879b93c-b952-4996-f499-56ab15a98258"
      },
      "execution_count": 40,
      "outputs": [
        {
          "output_type": "execute_result",
          "data": {
            "text/plain": [
              "tensor([[0.4418],\n",
              "        [0.4511],\n",
              "        [0.4604],\n",
              "        [0.4696],\n",
              "        [0.4789],\n",
              "        [0.4882],\n",
              "        [0.4974],\n",
              "        [0.5067],\n",
              "        [0.5160],\n",
              "        [0.5252]])"
            ]
          },
          "metadata": {},
          "execution_count": 40
        }
      ]
    },
    {
      "cell_type": "code",
      "source": [
        "list(model_0.parameters())"
      ],
      "metadata": {
        "colab": {
          "base_uri": "https://localhost:8080/"
        },
        "id": "r_svIZC3ku8L",
        "outputId": "890104cd-2657-47da-e947-cd42ab5d94e1"
      },
      "execution_count": 41,
      "outputs": [
        {
          "output_type": "execute_result",
          "data": {
            "text/plain": [
              "[Parameter containing:\n",
              " tensor([0.3367], requires_grad=True),\n",
              " Parameter containing:\n",
              " tensor([0.1288], requires_grad=True)]"
            ]
          },
          "metadata": {},
          "execution_count": 41
        }
      ]
    },
    {
      "cell_type": "code",
      "source": [
        "model_0.state_dict()"
      ],
      "metadata": {
        "colab": {
          "base_uri": "https://localhost:8080/"
        },
        "id": "srEPVp9XkvRZ",
        "outputId": "875f6a29-20f3-4f3b-fce1-4f6b7bc24a04"
      },
      "execution_count": 42,
      "outputs": [
        {
          "output_type": "execute_result",
          "data": {
            "text/plain": [
              "OrderedDict([('weights', tensor([0.3367])), ('bias', tensor([0.1288]))])"
            ]
          },
          "metadata": {},
          "execution_count": 42
        }
      ]
    },
    {
      "cell_type": "markdown",
      "source": [
        "## Loss Function\n",
        "learning rate or lr = 0.01; is a hyperparameters that defines how big/small the optimizer changes the parameters"
      ],
      "metadata": {
        "id": "Nlv4p6OQsxp8"
      }
    },
    {
      "cell_type": "code",
      "source": [
        "loss_fn = nn.L1Loss() # MAE loss is same as L1Loss\n",
        "\n",
        "# Create the optimizer\n",
        "optimizer = torch.optim.SGD(params=model_0.parameters(), # parameters of target model to optimize\n",
        "                            lr=0.01)"
      ],
      "metadata": {
        "id": "Fc_usUa2V-VQ"
      },
      "execution_count": 43,
      "outputs": []
    },
    {
      "cell_type": "code",
      "source": [
        "torch.manual_seed(42)\n",
        "\n",
        "epochs = 200\n",
        "\n",
        "# Create empty loss lists to track values\n",
        "train_loss_values = []\n",
        "test_loss_values = []\n",
        "epoch_count = []\n",
        "\n",
        "for epoch in range(epochs):\n",
        "\n",
        "    # Put model in training mode (this is the default state of a model)\n",
        "    model_0.train()\n",
        "\n",
        "    # 1. Forward pass on train data using the forward() method inside\n",
        "    y_pred = model_0(X_train)\n",
        "\n",
        "    # 2. Calculate the loss (how different are our models predictions to the ground truth)\n",
        "    loss = loss_fn(y_pred, y_train)\n",
        "    print(f\"loss: {loss}\")\n",
        "\n",
        "    # 3. Zero grad of the optimizer\n",
        "    optimizer.zero_grad()\n",
        "\n",
        "    # 4. Loss backwards\n",
        "    loss.backward()\n",
        "\n",
        "    # 5. Progress the optimizer\n",
        "    optimizer.step()\n",
        "\n",
        "    ### Testing\n",
        "\n",
        "    # Put the model in evaluation mode\n",
        "    model_0.eval()\n",
        "\n",
        "    with torch.inference_mode(): #turns off gradient tracking & couple more things behind the scences\n",
        "      # 1. Forward pass on test data\n",
        "      test_pred = model_0(X_test)\n",
        "\n",
        "      # 2. Caculate loss on test data\n",
        "      test_loss = loss_fn(test_pred, y_test.type(torch.float)) # predictions come in torch.float datatype, so comparisons need to be done with tensors of the same type\n",
        "\n",
        "      # Print out what's happening\n",
        "      if epoch % 10 == 0:\n",
        "        epoch_count.append(epoch)\n",
        "        train_loss_values.append(loss.detach().numpy())\n",
        "        test_loss_values.append(test_loss.detach().numpy())\n",
        "        print(f\"Epoch: {epoch} | Train Loss: {loss} | Test Loss: {test_loss} \")\n",
        "        print(model_0.state_dict())"
      ],
      "metadata": {
        "id": "Jjbxb61rr9OE",
        "colab": {
          "base_uri": "https://localhost:8080/"
        },
        "outputId": "38246d21-8975-4c4a-c911-13c3303af9e8"
      },
      "execution_count": 45,
      "outputs": [
        {
          "output_type": "stream",
          "name": "stdout",
          "text": [
            "loss: 0.011416126973927021\n",
            "Epoch: 0 | Train Loss: 0.011416126973927021 | Test Loss: 0.025647372007369995 \n",
            "OrderedDict([('weights', tensor([0.7450])), ('bias', tensor([0.2233]))])\n",
            "loss: 0.011077459901571274\n",
            "loss: 0.010730923153460026\n",
            "loss: 0.010388460010290146\n",
            "loss: 0.01004572119563818\n",
            "loss: 0.009699437767267227\n",
            "loss: 0.009360517375171185\n",
            "loss: 0.009011512622237206\n",
            "loss: 0.008674231357872486\n",
            "loss: 0.008326317183673382\n",
            "loss: 0.00798521377146244\n",
            "Epoch: 10 | Train Loss: 0.00798521377146244 | Test Loss: 0.018061798065900803 \n",
            "OrderedDict([('weights', tensor([0.7619])), ('bias', tensor([0.2158]))])\n",
            "loss: 0.007641120348125696\n",
            "loss: 0.007296205498278141\n",
            "loss: 0.006955908145755529\n",
            "loss: 0.006607189774513245\n",
            "loss: 0.006270702928304672\n",
            "loss: 0.005921709351241589\n",
            "loss: 0.005581982433795929\n",
            "loss: 0.005236509256064892\n",
            "loss: 0.004892969503998756\n",
            "loss: 0.004551304038614035\n",
            "Epoch: 20 | Train Loss: 0.004551304038614035 | Test Loss: 0.009789329953491688 \n",
            "OrderedDict([('weights', tensor([0.7791])), ('bias', tensor([0.2088]))])\n",
            "loss: 0.004203954245895147\n",
            "loss: 0.0038661006838083267\n",
            "loss: 0.003517099190503359\n",
            "loss: 0.003178748767822981\n",
            "loss: 0.0028318993281573057\n",
            "loss: 0.002489739563316107\n",
            "loss: 0.0021466966718435287\n",
            "loss: 0.0018007259350270033\n",
            "loss: 0.001467737602069974\n",
            "loss: 0.001191918971017003\n",
            "Epoch: 30 | Train Loss: 0.001191918971017003 | Test Loss: 0.005093771032989025 \n",
            "OrderedDict([('weights', tensor([0.7951])), ('bias', tensor([0.1993]))])\n",
            "loss: 0.0026194103993475437\n",
            "loss: 0.008901594206690788\n",
            "loss: 0.0026194103993475437\n",
            "loss: 0.008901594206690788\n",
            "loss: 0.0026194103993475437\n",
            "loss: 0.008901594206690788\n",
            "loss: 0.0026194103993475437\n",
            "loss: 0.008901594206690788\n",
            "loss: 0.0026194103993475437\n",
            "loss: 0.008901594206690788\n",
            "Epoch: 40 | Train Loss: 0.008901594206690788 | Test Loss: 0.005093771032989025 \n",
            "OrderedDict([('weights', tensor([0.7951])), ('bias', tensor([0.1993]))])\n",
            "loss: 0.0026194103993475437\n",
            "loss: 0.008901594206690788\n",
            "loss: 0.0026194103993475437\n",
            "loss: 0.008901594206690788\n",
            "loss: 0.0026194103993475437\n",
            "loss: 0.008901594206690788\n",
            "loss: 0.0026194103993475437\n",
            "loss: 0.008901594206690788\n",
            "loss: 0.0026194103993475437\n",
            "loss: 0.008901594206690788\n",
            "Epoch: 50 | Train Loss: 0.008901594206690788 | Test Loss: 0.005093771032989025 \n",
            "OrderedDict([('weights', tensor([0.7951])), ('bias', tensor([0.1993]))])\n",
            "loss: 0.0026194103993475437\n",
            "loss: 0.008901594206690788\n",
            "loss: 0.0026194103993475437\n",
            "loss: 0.008901594206690788\n",
            "loss: 0.0026194103993475437\n",
            "loss: 0.008901594206690788\n",
            "loss: 0.0026194103993475437\n",
            "loss: 0.008901594206690788\n",
            "loss: 0.0026194103993475437\n",
            "loss: 0.008901594206690788\n",
            "Epoch: 60 | Train Loss: 0.008901594206690788 | Test Loss: 0.005093771032989025 \n",
            "OrderedDict([('weights', tensor([0.7951])), ('bias', tensor([0.1993]))])\n",
            "loss: 0.0026194103993475437\n",
            "loss: 0.008901594206690788\n",
            "loss: 0.0026194103993475437\n",
            "loss: 0.008901594206690788\n",
            "loss: 0.0026194103993475437\n",
            "loss: 0.008901594206690788\n",
            "loss: 0.0026194103993475437\n",
            "loss: 0.008901594206690788\n",
            "loss: 0.0026194103993475437\n",
            "loss: 0.008901594206690788\n",
            "Epoch: 70 | Train Loss: 0.008901594206690788 | Test Loss: 0.005093771032989025 \n",
            "OrderedDict([('weights', tensor([0.7951])), ('bias', tensor([0.1993]))])\n",
            "loss: 0.0026194103993475437\n",
            "loss: 0.008901594206690788\n",
            "loss: 0.0026194103993475437\n",
            "loss: 0.008901594206690788\n",
            "loss: 0.0026194103993475437\n",
            "loss: 0.008901594206690788\n",
            "loss: 0.0026194103993475437\n",
            "loss: 0.008901594206690788\n",
            "loss: 0.0026194103993475437\n",
            "loss: 0.008901594206690788\n",
            "Epoch: 80 | Train Loss: 0.008901594206690788 | Test Loss: 0.005093771032989025 \n",
            "OrderedDict([('weights', tensor([0.7951])), ('bias', tensor([0.1993]))])\n",
            "loss: 0.0026194103993475437\n",
            "loss: 0.008901594206690788\n",
            "loss: 0.0026194103993475437\n",
            "loss: 0.008901594206690788\n",
            "loss: 0.0026194103993475437\n",
            "loss: 0.008901594206690788\n",
            "loss: 0.0026194103993475437\n",
            "loss: 0.008901594206690788\n",
            "loss: 0.0026194103993475437\n",
            "loss: 0.008901594206690788\n",
            "Epoch: 90 | Train Loss: 0.008901594206690788 | Test Loss: 0.005093771032989025 \n",
            "OrderedDict([('weights', tensor([0.7951])), ('bias', tensor([0.1993]))])\n",
            "loss: 0.0026194103993475437\n",
            "loss: 0.008901594206690788\n",
            "loss: 0.0026194103993475437\n",
            "loss: 0.008901594206690788\n",
            "loss: 0.0026194103993475437\n",
            "loss: 0.008901594206690788\n",
            "loss: 0.0026194103993475437\n",
            "loss: 0.008901594206690788\n",
            "loss: 0.0026194103993475437\n",
            "loss: 0.008901594206690788\n",
            "Epoch: 100 | Train Loss: 0.008901594206690788 | Test Loss: 0.005093771032989025 \n",
            "OrderedDict([('weights', tensor([0.7951])), ('bias', tensor([0.1993]))])\n",
            "loss: 0.0026194103993475437\n",
            "loss: 0.008901594206690788\n",
            "loss: 0.0026194103993475437\n",
            "loss: 0.008901594206690788\n",
            "loss: 0.0026194103993475437\n",
            "loss: 0.008901594206690788\n",
            "loss: 0.0026194103993475437\n",
            "loss: 0.008901594206690788\n",
            "loss: 0.0026194103993475437\n",
            "loss: 0.008901594206690788\n",
            "Epoch: 110 | Train Loss: 0.008901594206690788 | Test Loss: 0.005093771032989025 \n",
            "OrderedDict([('weights', tensor([0.7951])), ('bias', tensor([0.1993]))])\n",
            "loss: 0.0026194103993475437\n",
            "loss: 0.008901594206690788\n",
            "loss: 0.0026194103993475437\n",
            "loss: 0.008901594206690788\n",
            "loss: 0.0026194103993475437\n",
            "loss: 0.008901594206690788\n",
            "loss: 0.0026194103993475437\n",
            "loss: 0.008901594206690788\n",
            "loss: 0.0026194103993475437\n",
            "loss: 0.008901594206690788\n",
            "Epoch: 120 | Train Loss: 0.008901594206690788 | Test Loss: 0.005093771032989025 \n",
            "OrderedDict([('weights', tensor([0.7951])), ('bias', tensor([0.1993]))])\n",
            "loss: 0.0026194103993475437\n",
            "loss: 0.008901594206690788\n",
            "loss: 0.0026194103993475437\n",
            "loss: 0.008901594206690788\n",
            "loss: 0.0026194103993475437\n",
            "loss: 0.008901594206690788\n",
            "loss: 0.0026194103993475437\n",
            "loss: 0.008901594206690788\n",
            "loss: 0.0026194103993475437\n",
            "loss: 0.008901594206690788\n",
            "Epoch: 130 | Train Loss: 0.008901594206690788 | Test Loss: 0.005093771032989025 \n",
            "OrderedDict([('weights', tensor([0.7951])), ('bias', tensor([0.1993]))])\n",
            "loss: 0.0026194103993475437\n",
            "loss: 0.008901594206690788\n",
            "loss: 0.0026194103993475437\n",
            "loss: 0.008901594206690788\n",
            "loss: 0.0026194103993475437\n",
            "loss: 0.008901594206690788\n",
            "loss: 0.0026194103993475437\n",
            "loss: 0.008901594206690788\n",
            "loss: 0.0026194103993475437\n",
            "loss: 0.008901594206690788\n",
            "Epoch: 140 | Train Loss: 0.008901594206690788 | Test Loss: 0.005093771032989025 \n",
            "OrderedDict([('weights', tensor([0.7951])), ('bias', tensor([0.1993]))])\n",
            "loss: 0.0026194103993475437\n",
            "loss: 0.008901594206690788\n",
            "loss: 0.0026194103993475437\n",
            "loss: 0.008901594206690788\n",
            "loss: 0.0026194103993475437\n",
            "loss: 0.008901594206690788\n",
            "loss: 0.0026194103993475437\n",
            "loss: 0.008901594206690788\n",
            "loss: 0.0026194103993475437\n",
            "loss: 0.008901594206690788\n",
            "Epoch: 150 | Train Loss: 0.008901594206690788 | Test Loss: 0.005093771032989025 \n",
            "OrderedDict([('weights', tensor([0.7951])), ('bias', tensor([0.1993]))])\n",
            "loss: 0.0026194103993475437\n",
            "loss: 0.008901594206690788\n",
            "loss: 0.0026194103993475437\n",
            "loss: 0.008901594206690788\n",
            "loss: 0.0026194103993475437\n",
            "loss: 0.008901594206690788\n",
            "loss: 0.0026194103993475437\n",
            "loss: 0.008901594206690788\n",
            "loss: 0.0026194103993475437\n",
            "loss: 0.008901594206690788\n",
            "Epoch: 160 | Train Loss: 0.008901594206690788 | Test Loss: 0.005093771032989025 \n",
            "OrderedDict([('weights', tensor([0.7951])), ('bias', tensor([0.1993]))])\n",
            "loss: 0.0026194103993475437\n",
            "loss: 0.008901594206690788\n",
            "loss: 0.0026194103993475437\n",
            "loss: 0.008901594206690788\n",
            "loss: 0.0026194103993475437\n",
            "loss: 0.008901594206690788\n",
            "loss: 0.0026194103993475437\n",
            "loss: 0.008901594206690788\n",
            "loss: 0.0026194103993475437\n",
            "loss: 0.008901594206690788\n",
            "Epoch: 170 | Train Loss: 0.008901594206690788 | Test Loss: 0.005093771032989025 \n",
            "OrderedDict([('weights', tensor([0.7951])), ('bias', tensor([0.1993]))])\n",
            "loss: 0.0026194103993475437\n",
            "loss: 0.008901594206690788\n",
            "loss: 0.0026194103993475437\n",
            "loss: 0.008901594206690788\n",
            "loss: 0.0026194103993475437\n",
            "loss: 0.008901594206690788\n",
            "loss: 0.0026194103993475437\n",
            "loss: 0.008901594206690788\n",
            "loss: 0.0026194103993475437\n",
            "loss: 0.008901594206690788\n",
            "Epoch: 180 | Train Loss: 0.008901594206690788 | Test Loss: 0.005093771032989025 \n",
            "OrderedDict([('weights', tensor([0.7951])), ('bias', tensor([0.1993]))])\n",
            "loss: 0.0026194103993475437\n",
            "loss: 0.008901594206690788\n",
            "loss: 0.0026194103993475437\n",
            "loss: 0.008901594206690788\n",
            "loss: 0.0026194103993475437\n",
            "loss: 0.008901594206690788\n",
            "loss: 0.0026194103993475437\n",
            "loss: 0.008901594206690788\n",
            "loss: 0.0026194103993475437\n",
            "loss: 0.008901594206690788\n",
            "Epoch: 190 | Train Loss: 0.008901594206690788 | Test Loss: 0.005093771032989025 \n",
            "OrderedDict([('weights', tensor([0.7951])), ('bias', tensor([0.1993]))])\n",
            "loss: 0.0026194103993475437\n",
            "loss: 0.008901594206690788\n",
            "loss: 0.0026194103993475437\n",
            "loss: 0.008901594206690788\n",
            "loss: 0.0026194103993475437\n",
            "loss: 0.008901594206690788\n",
            "loss: 0.0026194103993475437\n",
            "loss: 0.008901594206690788\n",
            "loss: 0.0026194103993475437\n"
          ]
        }
      ]
    },
    {
      "cell_type": "code",
      "source": [
        "plt.plot(epoch_count, train_loss_values, label=\"Train loss\")\n",
        "plt.plot(epoch_count, test_loss_values, label=\"Test loss\")\n",
        "plt.title(\"Training and test loss curves\")\n",
        "plt.ylabel(\"Loss\")\n",
        "plt.xlabel(\"Epochs\")\n",
        "plt.legend();"
      ],
      "metadata": {
        "colab": {
          "base_uri": "https://localhost:8080/",
          "height": 472
        },
        "id": "1pRUXNMpOsZL",
        "outputId": "d83f654f-64b1-416c-e4b3-4b7ffce6b11b"
      },
      "execution_count": 46,
      "outputs": [
        {
          "output_type": "display_data",
          "data": {
            "text/plain": [
              "<Figure size 640x480 with 1 Axes>"
            ],
            "image/png": "[encoded data removed]"
          },
          "metadata": {}
        }
      ]
    },
    {
      "cell_type": "code",
      "source": [
        "with torch.inference_mode():\n",
        "  y_preds_new = model_0(X_test)"
      ],
      "metadata": {
        "id": "QGulSDPxTKnu"
      },
      "execution_count": 47,
      "outputs": []
    },
    {
      "cell_type": "code",
      "source": [
        "model_0.state_dict()"
      ],
      "metadata": {
        "id": "CFcuAu9zr9dN",
        "colab": {
          "base_uri": "https://localhost:8080/"
        },
        "outputId": "86e9ac39-28da-4959-ff44-e5262c417e35"
      },
      "execution_count": 48,
      "outputs": [
        {
          "output_type": "execute_result",
          "data": {
            "text/plain": [
              "OrderedDict([('weights', tensor([0.7990])), ('bias', tensor([0.2093]))])"
            ]
          },
          "metadata": {},
          "execution_count": 48
        }
      ]
    },
    {
      "cell_type": "code",
      "source": [
        "weight, bias"
      ],
      "metadata": {
        "id": "uTV7bhuBr9qu",
        "colab": {
          "base_uri": "https://localhost:8080/"
        },
        "outputId": "bcb298d8-efad-4e17-918c-00de88159ccc"
      },
      "execution_count": 49,
      "outputs": [
        {
          "output_type": "execute_result",
          "data": {
            "text/plain": [
              "(0.8, 0.2)"
            ]
          },
          "metadata": {},
          "execution_count": 49
        }
      ]
    },
    {
      "cell_type": "code",
      "source": [
        "plot_predictions(predictions =  y_preds);"
      ],
      "metadata": {
        "id": "N8YoOxt5uDG3",
        "colab": {
          "base_uri": "https://localhost:8080/",
          "height": 599
        },
        "outputId": "33356ee1-6224-4390-ca8e-2eaf8f45e2f5"
      },
      "execution_count": 50,
      "outputs": [
        {
          "output_type": "display_data",
          "data": {
            "text/plain": [
              "<Figure size 1000x700 with 1 Axes>"
            ],
            "image/png": "[encoded data removed]"
          },
          "metadata": {}
        }
      ]
    },
    {
      "cell_type": "code",
      "source": [
        "plot_predictions(predictions =  y_preds_new);"
      ],
      "metadata": {
        "id": "3Ou2kxygr96Q",
        "colab": {
          "base_uri": "https://localhost:8080/",
          "height": 599
        },
        "outputId": "dabad04b-1215-42d5-ac31-64f4f43e2790"
      },
      "execution_count": 51,
      "outputs": [
        {
          "output_type": "display_data",
          "data": {
            "text/plain": [
              "<Figure size 1000x700 with 1 Axes>"
            ],
            "image/png": "[encoded data removed]"
          },
          "metadata": {}
        }
      ]
    },
    {
      "cell_type": "markdown",
      "source": [
        "###Saving a Model in Pytorch"
      ],
      "metadata": {
        "id": "atjMQxYKqkKs"
      }
    },
    {
      "cell_type": "code",
      "source": [
        "model_0.state_dict()"
      ],
      "metadata": {
        "id": "3Jg9EHOar-JX",
        "colab": {
          "base_uri": "https://localhost:8080/"
        },
        "outputId": "dfd06e0b-fca2-4070-db38-9b15b359dc06"
      },
      "execution_count": 52,
      "outputs": [
        {
          "output_type": "execute_result",
          "data": {
            "text/plain": [
              "OrderedDict([('weights', tensor([0.7990])), ('bias', tensor([0.2093]))])"
            ]
          },
          "metadata": {},
          "execution_count": 52
        }
      ]
    },
    {
      "cell_type": "code",
      "source": [
        "from pathlib import Path\n",
        "\n",
        "#create models directory\n",
        "Model_Path = Path(\"Models\")\n",
        "Model_Path.mkdir(parents = True, exist_ok = True)\n",
        "#create model save path\n",
        "Model_Name = \"PyTorch_Workflow_model_0.pth\"\n",
        "Model_Save_Path = Model_Path / Model_Name\n",
        "#save the model state dict\n",
        "print(f\"Saving model to: {Model_Save_Path}\")\n",
        "torch.save(obj = model_0.state_dict(),\n",
        "           f=Model_Save_Path)"
      ],
      "metadata": {
        "id": "AaUt9nu8r-ZZ",
        "colab": {
          "base_uri": "https://localhost:8080/"
        },
        "outputId": "5c612d85-eb77-4b00-b633-a2c6caa72b4d"
      },
      "execution_count": 53,
      "outputs": [
        {
          "output_type": "stream",
          "name": "stdout",
          "text": [
            "Saving model to: Models/PyTorch_Workflow_model_0.pth\n"
          ]
        }
      ]
    },
    {
      "cell_type": "code",
      "source": [
        "!ls -l Models"
      ],
      "metadata": {
        "id": "QfGObAK3r-ux",
        "colab": {
          "base_uri": "https://localhost:8080/"
        },
        "outputId": "0fbb8e24-0ac4-4099-c482-2b164c48c61d"
      },
      "execution_count": 54,
      "outputs": [
        {
          "output_type": "stream",
          "name": "stdout",
          "text": [
            "total 4\n",
            "-rw-r--r-- 1 root root 1662 Mar 14 21:54 PyTorch_Workflow_model_0.pth\n"
          ]
        }
      ]
    },
    {
      "cell_type": "markdown",
      "source": [
        "##Loading a Pytorch Model"
      ],
      "metadata": {
        "id": "qebCQIyRvJZ3"
      }
    },
    {
      "cell_type": "code",
      "source": [
        "model_0.state_dict()"
      ],
      "metadata": {
        "id": "7j8kpz41r_Mo",
        "colab": {
          "base_uri": "https://localhost:8080/"
        },
        "outputId": "e60aca92-7e39-4344-fd5d-979f69b4871b"
      },
      "execution_count": 55,
      "outputs": [
        {
          "output_type": "execute_result",
          "data": {
            "text/plain": [
              "OrderedDict([('weights', tensor([0.7990])), ('bias', tensor([0.2093]))])"
            ]
          },
          "metadata": {},
          "execution_count": 55
        }
      ]
    },
    {
      "cell_type": "code",
      "source": [
        "loaded_model_0 = LinearRegressionModel()\n",
        "\n",
        "loaded_model_0.load_state_dict(torch.load(f = Model_Save_Path))"
      ],
      "metadata": {
        "id": "JrwAKyxZqU60",
        "colab": {
          "base_uri": "https://localhost:8080/"
        },
        "outputId": "f8157e29-c8db-4481-8671-7f4c623f7c5c"
      },
      "execution_count": 56,
      "outputs": [
        {
          "output_type": "execute_result",
          "data": {
            "text/plain": [
              "<All keys matched successfully>"
            ]
          },
          "metadata": {},
          "execution_count": 56
        }
      ]
    },
    {
      "cell_type": "code",
      "source": [
        "loaded_model_0.state_dict()"
      ],
      "metadata": {
        "id": "By8HhE35qVSi",
        "colab": {
          "base_uri": "https://localhost:8080/"
        },
        "outputId": "28b65c90-1c9d-42ad-c012-6b6987d30913"
      },
      "execution_count": 57,
      "outputs": [
        {
          "output_type": "execute_result",
          "data": {
            "text/plain": [
              "OrderedDict([('weights', tensor([0.7990])), ('bias', tensor([0.2093]))])"
            ]
          },
          "metadata": {},
          "execution_count": 57
        }
      ]
    },
    {
      "cell_type": "code",
      "source": [
        "#Make Some Predictions with our loaded model\n",
        "loaded_model_0.eval()\n",
        "with torch.inference_mode():\n",
        "  loaded_model_preds = loaded_model_0(X_test)\n",
        "loaded_model_preds"
      ],
      "metadata": {
        "colab": {
          "base_uri": "https://localhost:8080/"
        },
        "id": "RzO4leoxwWSl",
        "outputId": "ba8cc604-876b-49d6-af8b-9ff11ffdc3e6"
      },
      "execution_count": 58,
      "outputs": [
        {
          "output_type": "execute_result",
          "data": {
            "text/plain": [
              "tensor([[0.8485],\n",
              "        [0.8645],\n",
              "        [0.8804],\n",
              "        [0.8964],\n",
              "        [0.9124],\n",
              "        [0.9284],\n",
              "        [0.9443],\n",
              "        [0.9603],\n",
              "        [0.9763],\n",
              "        [0.9923]])"
            ]
          },
          "metadata": {},
          "execution_count": 58
        }
      ]
    },
    {
      "cell_type": "code",
      "source": [
        "# compare loaded model preds with original model preds\n",
        "model_0.eval()\n",
        "with torch.inference_mode():\n",
        "  y_preds = model_0(X_test)\n",
        "  y_preds\n",
        "\n",
        "y_preds == loaded_model_preds"
      ],
      "metadata": {
        "colab": {
          "base_uri": "https://localhost:8080/"
        },
        "id": "XpRdqttAvMBT",
        "outputId": "11c907b1-d051-4cdd-84a5-4341e1c9b674"
      },
      "execution_count": 59,
      "outputs": [
        {
          "output_type": "execute_result",
          "data": {
            "text/plain": [
              "tensor([[True],\n",
              "        [True],\n",
              "        [True],\n",
              "        [True],\n",
              "        [True],\n",
              "        [True],\n",
              "        [True],\n",
              "        [True],\n",
              "        [True],\n",
              "        [True]])"
            ]
          },
          "metadata": {},
          "execution_count": 59
        }
      ]
    },
    {
      "cell_type": "markdown",
      "source": [
        "##Putting it all together"
      ],
      "metadata": {
        "id": "aDnf8pfKzAcB"
      }
    },
    {
      "cell_type": "code",
      "source": [
        "import torch\n",
        "from torch import nn\n",
        "import matplotlib.pyplot as plt\n",
        "torch.__version__"
      ],
      "metadata": {
        "colab": {
          "base_uri": "https://localhost:8080/",
          "height": 36
        },
        "id": "qaeRl-w3vMRo",
        "outputId": "d94c599e-a32a-4e28-c5c7-2dc60049637b"
      },
      "execution_count": 60,
      "outputs": [
        {
          "output_type": "execute_result",
          "data": {
            "text/plain": [
              "'2.2.1+cu121'"
            ],
            "application/vnd.google.colaboratory.intrinsic+json": {
              "type": "string"
            }
          },
          "metadata": {},
          "execution_count": 60
        }
      ]
    },
    {
      "cell_type": "code",
      "source": [
        "device =\"cuda\" if torch.cuda.is_available() else \"cpu\"\n",
        "print(f\"Using device:{device}\")"
      ],
      "metadata": {
        "colab": {
          "base_uri": "https://localhost:8080/"
        },
        "id": "ZNzusDhavMph",
        "outputId": "9f82021b-3526-4bf4-bff3-83929849c593"
      },
      "execution_count": 62,
      "outputs": [
        {
          "output_type": "stream",
          "name": "stdout",
          "text": [
            "Using device:cpu\n"
          ]
        }
      ]
    },
    {
      "cell_type": "code",
      "source": [
        "weight = 0.7\n",
        "bias = 0.3\n",
        "\n",
        "start = 0\n",
        "end = 1\n",
        "step = 0.02\n",
        "\n",
        "X = torch.arange(start, end, step).unsqueeze(dim = 1)\n",
        "y= weight * X + bias\n",
        "X[:10], y[:10]"
      ],
      "metadata": {
        "colab": {
          "base_uri": "https://localhost:8080/"
        },
        "id": "5NksBgucvNB0",
        "outputId": "95f17626-3083-42eb-f57e-997f1314ce43"
      },
      "execution_count": 63,
      "outputs": [
        {
          "output_type": "execute_result",
          "data": {
            "text/plain": [
              "(tensor([[0.0000],\n",
              "         [0.0200],\n",
              "         [0.0400],\n",
              "         [0.0600],\n",
              "         [0.0800],\n",
              "         [0.1000],\n",
              "         [0.1200],\n",
              "         [0.1400],\n",
              "         [0.1600],\n",
              "         [0.1800]]),\n",
              " tensor([[0.3000],\n",
              "         [0.3140],\n",
              "         [0.3280],\n",
              "         [0.3420],\n",
              "         [0.3560],\n",
              "         [0.3700],\n",
              "         [0.3840],\n",
              "         [0.3980],\n",
              "         [0.4120],\n",
              "         [0.4260]]))"
            ]
          },
          "metadata": {},
          "execution_count": 63
        }
      ]
    },
    {
      "cell_type": "code",
      "source": [
        "train_split = int(0.8 * len(X))\n",
        "X_train, y_train = X[:train_split], y[:train_split]\n",
        "X_test, y_test = X[train_split:], y[train_split:]\n",
        "len(X_train), len(y_train), len(X_test), len(y_test)"
      ],
      "metadata": {
        "colab": {
          "base_uri": "https://localhost:8080/"
        },
        "id": "wBT0TnSlzl8S",
        "outputId": "7fee271c-4c2c-4bf3-c475-72691f260e28"
      },
      "execution_count": 64,
      "outputs": [
        {
          "output_type": "execute_result",
          "data": {
            "text/plain": [
              "(40, 40, 10, 10)"
            ]
          },
          "metadata": {},
          "execution_count": 64
        }
      ]
    },
    {
      "cell_type": "code",
      "source": [
        "plot_predictions(X_train, y_train, X_test, y_test)"
      ],
      "metadata": {
        "colab": {
          "base_uri": "https://localhost:8080/",
          "height": 599
        },
        "id": "wnEb9sN1znDh",
        "outputId": "f25156e6-cbbd-426d-c892-5c018ba6c9ed"
      },
      "execution_count": 65,
      "outputs": [
        {
          "output_type": "display_data",
          "data": {
            "text/plain": [
              "<Figure size 1000x700 with 1 Axes>"
            ],
            "image/png": "[encoded data removed]"
          },
          "metadata": {}
        }
      ]
    },
    {
      "cell_type": "code",
      "source": [
        "class LinearRegressionModelV2(nn.Module):\n",
        "  def __init__ (self):\n",
        "    super().__init__()\n",
        "    self.linear_layer = nn.Linear(in_features = 1,\n",
        "                                  out_features= 1)\n",
        "  def forward(self, x: torch.Tensor):\n",
        "    return self.linear_layer(x)\n",
        "\n",
        "torch.manual_seed(42)\n",
        "model_1 = LinearRegressionModelV2()\n",
        "model_1, model_1.state_dict()\n"
      ],
      "metadata": {
        "colab": {
          "base_uri": "https://localhost:8080/"
        },
        "id": "icOldKijznRq",
        "outputId": "5e66e349-3654-4a88-e264-884b6c1749f5"
      },
      "execution_count": 66,
      "outputs": [
        {
          "output_type": "execute_result",
          "data": {
            "text/plain": [
              "(LinearRegressionModelV2(\n",
              "   (linear_layer): Linear(in_features=1, out_features=1, bias=True)\n",
              " ),\n",
              " OrderedDict([('linear_layer.weight', tensor([[0.7645]])),\n",
              "              ('linear_layer.bias', tensor([0.8300]))]))"
            ]
          },
          "metadata": {},
          "execution_count": 66
        }
      ]
    },
    {
      "cell_type": "code",
      "source": [
        "X_train[:5], y_train[:5]"
      ],
      "metadata": {
        "colab": {
          "base_uri": "https://localhost:8080/"
        },
        "id": "AUPFHWUlznlb",
        "outputId": "7f1748fb-0aed-49f2-8ca2-2500923a4419"
      },
      "execution_count": 67,
      "outputs": [
        {
          "output_type": "execute_result",
          "data": {
            "text/plain": [
              "(tensor([[0.0000],\n",
              "         [0.0200],\n",
              "         [0.0400],\n",
              "         [0.0600],\n",
              "         [0.0800]]),\n",
              " tensor([[0.3000],\n",
              "         [0.3140],\n",
              "         [0.3280],\n",
              "         [0.3420],\n",
              "         [0.3560]]))"
            ]
          },
          "metadata": {},
          "execution_count": 67
        }
      ]
    },
    {
      "cell_type": "code",
      "source": [
        "next(model_1.parameters()).device"
      ],
      "metadata": {
        "colab": {
          "base_uri": "https://localhost:8080/"
        },
        "id": "tBVDh_fZ1yPn",
        "outputId": "cfc22424-e1ac-46e6-e37c-85170aeb2010"
      },
      "execution_count": 68,
      "outputs": [
        {
          "output_type": "execute_result",
          "data": {
            "text/plain": [
              "device(type='cpu')"
            ]
          },
          "metadata": {},
          "execution_count": 68
        }
      ]
    },
    {
      "cell_type": "code",
      "source": [
        "model_1.state_dict()"
      ],
      "metadata": {
        "colab": {
          "base_uri": "https://localhost:8080/"
        },
        "id": "YhK6LvPf1ypT",
        "outputId": "293e560e-5275-4eff-c42f-e591fb7a651d"
      },
      "execution_count": 69,
      "outputs": [
        {
          "output_type": "execute_result",
          "data": {
            "text/plain": [
              "OrderedDict([('linear_layer.weight', tensor([[0.7645]])),\n",
              "             ('linear_layer.bias', tensor([0.8300]))])"
            ]
          },
          "metadata": {},
          "execution_count": 69
        }
      ]
    },
    {
      "cell_type": "code",
      "source": [
        "loss_fn = nn.L1Loss()\n",
        "optimizer = torch.optim.SGD(params = model_1.parameters(), lr = 0.01)\n",
        "\n",
        "torch.manual_seed(42)\n",
        "epochs = 200\n",
        "for epoch in range(epochs):\n",
        "  model_1.train()\n",
        "\n",
        "  y_pred = model_1(X_train)\n",
        "  loss = loss_fn(y_pred, y_train)\n",
        "\n",
        "  optimizer.zero_grad()\n",
        "  loss.backward()\n",
        "\n",
        "  optimizer.step()\n",
        "\n",
        "  model_1.eval()\n",
        "\n",
        "  with torch.inference_mode():\n",
        "    test_pred = model_1(X_test)\n",
        "    test_loss = loss_fn(test_pred, y_test)\n",
        "\n",
        "  if epoch % 10 == 0:\n",
        "    print(f\"epoch:{epoch} | loss: {loss} | Test loss: {test_loss}\")"
      ],
      "metadata": {
        "colab": {
          "base_uri": "https://localhost:8080/"
        },
        "id": "2EmUdDCg1y7e",
        "outputId": "ce74df42-ebd3-4180-ab40-246d5026e89e"
      },
      "execution_count": 70,
      "outputs": [
        {
          "output_type": "stream",
          "name": "stdout",
          "text": [
            "epoch:0 | loss: 0.5551779866218567 | Test loss: 0.5739762187004089\n",
            "epoch:10 | loss: 0.4399680495262146 | Test loss: 0.4392663538455963\n",
            "epoch:20 | loss: 0.3247582018375397 | Test loss: 0.30455657839775085\n",
            "epoch:30 | loss: 0.20954827964305878 | Test loss: 0.16984674334526062\n",
            "epoch:40 | loss: 0.09433844685554504 | Test loss: 0.03513689711689949\n",
            "epoch:50 | loss: 0.023886386305093765 | Test loss: 0.04784906655550003\n",
            "epoch:60 | loss: 0.0199567973613739 | Test loss: 0.04580312222242355\n",
            "epoch:70 | loss: 0.016517987474799156 | Test loss: 0.0375305712223053\n",
            "epoch:80 | loss: 0.013089170679450035 | Test loss: 0.029944902285933495\n",
            "epoch:90 | loss: 0.009653178043663502 | Test loss: 0.02167237363755703\n",
            "epoch:100 | loss: 0.006215679459273815 | Test loss: 0.014086711220443249\n",
            "epoch:110 | loss: 0.002787243574857712 | Test loss: 0.005814164876937866\n",
            "epoch:120 | loss: 0.0012645035749301314 | Test loss: 0.013801807537674904\n",
            "epoch:130 | loss: 0.0012645035749301314 | Test loss: 0.013801807537674904\n",
            "epoch:140 | loss: 0.0012645035749301314 | Test loss: 0.013801807537674904\n",
            "epoch:150 | loss: 0.0012645035749301314 | Test loss: 0.013801807537674904\n",
            "epoch:160 | loss: 0.0012645035749301314 | Test loss: 0.013801807537674904\n",
            "epoch:170 | loss: 0.0012645035749301314 | Test loss: 0.013801807537674904\n",
            "epoch:180 | loss: 0.0012645035749301314 | Test loss: 0.013801807537674904\n",
            "epoch:190 | loss: 0.0012645035749301314 | Test loss: 0.013801807537674904\n"
          ]
        }
      ]
    },
    {
      "cell_type": "code",
      "source": [
        "model_1.state_dict()"
      ],
      "metadata": {
        "colab": {
          "base_uri": "https://localhost:8080/"
        },
        "id": "-xm5xU6J1zOK",
        "outputId": "650c414e-8215-4b8a-d363-34ece127aecc"
      },
      "execution_count": 71,
      "outputs": [
        {
          "output_type": "execute_result",
          "data": {
            "text/plain": [
              "OrderedDict([('linear_layer.weight', tensor([[0.6968]])),\n",
              "             ('linear_layer.bias', tensor([0.3025]))])"
            ]
          },
          "metadata": {},
          "execution_count": 71
        }
      ]
    },
    {
      "cell_type": "code",
      "source": [
        "model_1.eval()\n",
        "\n",
        "with torch.inference_mode():\n",
        "  y_preds = model_1(X_test)\n",
        "y_preds"
      ],
      "metadata": {
        "colab": {
          "base_uri": "https://localhost:8080/"
        },
        "id": "zSPq5iiz9w70",
        "outputId": "3a047093-dcfa-4712-ca42-aa0f84213130"
      },
      "execution_count": 72,
      "outputs": [
        {
          "output_type": "execute_result",
          "data": {
            "text/plain": [
              "tensor([[0.8600],\n",
              "        [0.8739],\n",
              "        [0.8878],\n",
              "        [0.9018],\n",
              "        [0.9157],\n",
              "        [0.9296],\n",
              "        [0.9436],\n",
              "        [0.9575],\n",
              "        [0.9714],\n",
              "        [0.9854]])"
            ]
          },
          "metadata": {},
          "execution_count": 72
        }
      ]
    },
    {
      "cell_type": "code",
      "source": [
        "plot_predictions(predictions=y_preds)"
      ],
      "metadata": {
        "colab": {
          "base_uri": "https://localhost:8080/",
          "height": 599
        },
        "id": "3-zpxVMP1zaZ",
        "outputId": "041dd22f-bdac-430f-a85a-9148c324c6a8"
      },
      "execution_count": 73,
      "outputs": [
        {
          "output_type": "display_data",
          "data": {
            "text/plain": [
              "<Figure size 1000x700 with 1 Axes>"
            ],
            "image/png": "[encoded data removed]"
          },
          "metadata": {}
        }
      ]
    },
    {
      "cell_type": "code",
      "source": [
        "from pathlib import Path\n",
        "\n",
        "model_path = Path(\"models\")\n",
        "model_path.mkdir(parents = True, exist_ok = True)\n",
        "\n",
        "model_name = \"Model 1.pth\"\n",
        "Model_Save_Path = model_path / model_name\n",
        "\n",
        "print(f\"Saving model to: {Model_Save_Path}\")\n",
        "torch.save(obj=model_1.state_dict(), f=Model_Save_Path)"
      ],
      "metadata": {
        "colab": {
          "base_uri": "https://localhost:8080/"
        },
        "id": "KoIVMkb19XlW",
        "outputId": "7fcb325d-6551-4a7c-e2e1-d2efbe757044"
      },
      "execution_count": 74,
      "outputs": [
        {
          "output_type": "stream",
          "name": "stdout",
          "text": [
            "Saving model to: models/Model 1.pth\n"
          ]
        }
      ]
    },
    {
      "cell_type": "code",
      "source": [
        "# Instantiate a fresh instance of LinearRegressionModelV2\n",
        "loaded_model_1 = LinearRegressionModelV2()\n",
        "\n",
        "# Load model state dict\n",
        "loaded_model_1.load_state_dict(torch.load(Model_Save_Path))\n",
        "\n",
        "# Put model to target device (if your data is on GPU, model will have to be on GPU to make predictions)\n",
        "loaded_model_1.to(device)\n",
        "\n",
        "print(f\"Loaded model:\\n{loaded_model_1}\")\n",
        "print(f\"Model on device:\\n{next(loaded_model_1.parameters()).device}\")"
      ],
      "metadata": {
        "colab": {
          "base_uri": "https://localhost:8080/"
        },
        "id": "Q83KzVKl9X4O",
        "outputId": "a288a6de-16ff-4bce-eeda-7df3eaae3475"
      },
      "execution_count": 75,
      "outputs": [
        {
          "output_type": "stream",
          "name": "stdout",
          "text": [
            "Loaded model:\n",
            "LinearRegressionModelV2(\n",
            "  (linear_layer): Linear(in_features=1, out_features=1, bias=True)\n",
            ")\n",
            "Model on device:\n",
            "cpu\n"
          ]
        }
      ]
    },
    {
      "cell_type": "code",
      "source": [
        "# Evaluate loaded model\n",
        "loaded_model_1.eval()\n",
        "with torch.inference_mode():\n",
        "    loaded_model_1_preds = loaded_model_1(X_test)\n",
        "y_preds == loaded_model_1_preds"
      ],
      "metadata": {
        "colab": {
          "base_uri": "https://localhost:8080/"
        },
        "id": "QxswM-e-9YV6",
        "outputId": "12d0b748-ea2b-4d25-d12c-968e8152d80d"
      },
      "execution_count": 77,
      "outputs": [
        {
          "output_type": "execute_result",
          "data": {
            "text/plain": [
              "tensor([[True],\n",
              "        [True],\n",
              "        [True],\n",
              "        [True],\n",
              "        [True],\n",
              "        [True],\n",
              "        [True],\n",
              "        [True],\n",
              "        [True],\n",
              "        [True]])"
            ]
          },
          "metadata": {},
          "execution_count": 77
        }
      ]
    },
    {
      "cell_type": "code",
      "source": [],
      "metadata": {
        "id": "KWfHUWhG9ZZl"
      },
      "execution_count": null,
      "outputs": []
    },
    {
      "cell_type": "code",
      "source": [],
      "metadata": {
        "id": "drEjf-3T9Z8O"
      },
      "execution_count": null,
      "outputs": []
    },
    {
      "cell_type": "code",
      "source": [],
      "metadata": {
        "id": "6xurOKJrDw5_"
      },
      "execution_count": null,
      "outputs": []
    },
    {
      "cell_type": "code",
      "source": [],
      "metadata": {
        "id": "pIHObNjrDxfO"
      },
      "execution_count": null,
      "outputs": []
    },
    {
      "cell_type": "code",
      "source": [],
      "metadata": {
        "id": "N6p1-tSrDxzF"
      },
      "execution_count": null,
      "outputs": []
    },
    {
      "cell_type": "code",
      "source": [],
      "metadata": {
        "id": "YRf-Em85DyDa"
      },
      "execution_count": null,
      "outputs": []
    },
    {
      "cell_type": "code",
      "source": [],
      "metadata": {
        "id": "ftTkmA2gDyVh"
      },
      "execution_count": null,
      "outputs": []
    },
    {
      "cell_type": "code",
      "source": [],
      "metadata": {
        "id": "SNDPFz8zDyo7"
      },
      "execution_count": null,
      "outputs": []
    }
  ]
}